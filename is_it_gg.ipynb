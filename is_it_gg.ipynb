{
 "cells": [
  {
   "cell_type": "code",
   "execution_count": 2,
   "metadata": {
    "pycharm": {
     "name": "#%%\n"
    }
   },
   "outputs": [
    {
     "data": {
      "text/plain": [
       "'You will likely win this game!'"
      ]
     },
     "execution_count": 2,
     "metadata": {},
     "output_type": "execute_result"
    }
   ],
   "source": [
    "import pandas as pd\n",
    "import numpy as np\n",
    "from sklearn import metrics \n",
    "from sklearn.linear_model import LogisticRegression\n",
    "from sklearn.model_selection import train_test_split\n",
    "\n",
    "# Load the data\n",
    "df = pd.read_csv('data.csv')\n",
    "df.head()\n",
    "\n",
    "# Separate label from features them as x and y respectively\n",
    "x = df.drop('win', axis = 1)\n",
    "y = df.win\n",
    "\n",
    "# Split the data into train and test sets\n",
    "x_train, x_test, y_train, y_test = train_test_split(x, y, random_state=4)\n",
    "\n",
    "# Create and train logistic regression model\n",
    "logistic_regression = LogisticRegression()\n",
    "logistic_regression.fit(x_train, y_train)\n",
    "\n",
    "# Predict the data using the model and test data\n",
    "y_pred = logistic_regression.predict(x_test)\n",
    "\n",
    "# Find accuracy of model\n",
    "accuracy = metrics.accuracy_score(y_test, y_pred)\n",
    "accuracy_percentage = 100 * accuracy\n",
    "accuracy_percentage\n",
    "\n",
    "# Predict won/loss\n",
    "def predict(timestamp, currentGold, level, minionsKilled, firstBlood, firstTower):\n",
    "    match_frame = logistic_regression.predict((np.array([timestamp, currentGold, level, minionsKilled, int(firstBlood), int(firstTower)]).reshape(1, -1)))\n",
    "    \n",
    "    if bool(match_frame[0]):\n",
    "        return \"You will likely win this game!\"\n",
    "    else:\n",
    "        return \"You should FF!\"\n",
    "\n",
    "predict(timestamp=1187000, currentGold=1340, level=10, minionsKilled=88, firstBlood=True, firstTower=True) # Won\n"
   ]
  },
  {
   "cell_type": "code",
   "execution_count": null,
   "metadata": {
    "pycharm": {
     "name": "#%%\n"
    }
   },
   "outputs": [],
   "source": []
  },
  {
   "cell_type": "code",
   "execution_count": null,
   "metadata": {},
   "outputs": [],
   "source": []
  },
  {
   "cell_type": "code",
   "execution_count": null,
   "metadata": {},
   "outputs": [],
   "source": []
  },
  {
   "cell_type": "code",
   "execution_count": null,
   "metadata": {},
   "outputs": [],
   "source": []
  }
 ],
 "metadata": {
  "kernelspec": {
   "display_name": "Python 3",
   "language": "python",
   "name": "python3"
  },
  "language_info": {
   "codemirror_mode": {
    "name": "ipython",
    "version": 3
   },
   "file_extension": ".py",
   "mimetype": "text/x-python",
   "name": "python",
   "nbconvert_exporter": "python",
   "pygments_lexer": "ipython3",
   "version": "3.8.2"
  }
 },
 "nbformat": 4,
 "nbformat_minor": 4
}
